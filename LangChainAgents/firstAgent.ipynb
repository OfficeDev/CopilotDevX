{
 "cells": [
  {
   "cell_type": "code",
   "execution_count": 2,
   "id": "f8df60af-f644-4ca0-8f49-1e659788f38f",
   "metadata": {},
   "outputs": [
    {
     "name": "stdout",
     "output_type": "stream",
     "text": [
      "Collecting openai\n",
      "  Downloading openai-1.57.4-py3-none-any.whl.metadata (24 kB)\n",
      "Requirement already satisfied: anyio<5,>=3.5.0 in c:\\users\\sakov\\bootcamp\\anaconda\\lib\\site-packages (from openai) (4.2.0)\n",
      "Requirement already satisfied: distro<2,>=1.7.0 in c:\\users\\sakov\\bootcamp\\anaconda\\lib\\site-packages (from openai) (1.9.0)\n",
      "Requirement already satisfied: httpx<1,>=0.23.0 in c:\\users\\sakov\\bootcamp\\anaconda\\lib\\site-packages (from openai) (0.27.0)\n",
      "Collecting jiter<1,>=0.4.0 (from openai)\n",
      "  Downloading jiter-0.8.2-cp312-cp312-win_amd64.whl.metadata (5.3 kB)\n",
      "Requirement already satisfied: pydantic<3,>=1.9.0 in c:\\users\\sakov\\bootcamp\\anaconda\\lib\\site-packages (from openai) (2.8.2)\n",
      "Requirement already satisfied: sniffio in c:\\users\\sakov\\bootcamp\\anaconda\\lib\\site-packages (from openai) (1.3.0)\n",
      "Requirement already satisfied: tqdm>4 in c:\\users\\sakov\\bootcamp\\anaconda\\lib\\site-packages (from openai) (4.66.5)\n",
      "Requirement already satisfied: typing-extensions<5,>=4.11 in c:\\users\\sakov\\bootcamp\\anaconda\\lib\\site-packages (from openai) (4.11.0)\n",
      "Requirement already satisfied: idna>=2.8 in c:\\users\\sakov\\bootcamp\\anaconda\\lib\\site-packages (from anyio<5,>=3.5.0->openai) (3.7)\n",
      "Requirement already satisfied: certifi in c:\\users\\sakov\\bootcamp\\anaconda\\lib\\site-packages (from httpx<1,>=0.23.0->openai) (2024.8.30)\n",
      "Requirement already satisfied: httpcore==1.* in c:\\users\\sakov\\bootcamp\\anaconda\\lib\\site-packages (from httpx<1,>=0.23.0->openai) (1.0.2)\n",
      "Requirement already satisfied: h11<0.15,>=0.13 in c:\\users\\sakov\\bootcamp\\anaconda\\lib\\site-packages (from httpcore==1.*->httpx<1,>=0.23.0->openai) (0.14.0)\n",
      "Requirement already satisfied: annotated-types>=0.4.0 in c:\\users\\sakov\\bootcamp\\anaconda\\lib\\site-packages (from pydantic<3,>=1.9.0->openai) (0.6.0)\n",
      "Requirement already satisfied: pydantic-core==2.20.1 in c:\\users\\sakov\\bootcamp\\anaconda\\lib\\site-packages (from pydantic<3,>=1.9.0->openai) (2.20.1)\n",
      "Requirement already satisfied: colorama in c:\\users\\sakov\\bootcamp\\anaconda\\lib\\site-packages (from tqdm>4->openai) (0.4.6)\n",
      "Downloading openai-1.57.4-py3-none-any.whl (390 kB)\n",
      "Downloading jiter-0.8.2-cp312-cp312-win_amd64.whl (204 kB)\n",
      "Installing collected packages: jiter, openai\n",
      "Successfully installed jiter-0.8.2 openai-1.57.4\n"
     ]
    }
   ],
   "source": [
    "import sys\n",
    "!{sys.executable} -m pip install openai"
   ]
  },
  {
   "cell_type": "code",
   "execution_count": 5,
   "id": "ae53df99-deff-4c6d-8905-8bb02a6e299e",
   "metadata": {},
   "outputs": [
    {
     "name": "stdout",
     "output_type": "stream",
     "text": [
      "Collecting langchain_core\n",
      "  Downloading langchain_core-0.3.25-py3-none-any.whl.metadata (6.3 kB)\n",
      "Requirement already satisfied: PyYAML>=5.3 in c:\\users\\sakov\\bootcamp\\anaconda\\lib\\site-packages (from langchain_core) (6.0.1)\n",
      "Requirement already satisfied: jsonpatch<2.0,>=1.33 in c:\\users\\sakov\\bootcamp\\anaconda\\lib\\site-packages (from langchain_core) (1.33)\n",
      "Collecting langsmith<0.3,>=0.1.125 (from langchain_core)\n",
      "  Using cached langsmith-0.2.3-py3-none-any.whl.metadata (14 kB)\n",
      "Requirement already satisfied: packaging<25,>=23.2 in c:\\users\\sakov\\bootcamp\\anaconda\\lib\\site-packages (from langchain_core) (24.1)\n",
      "Requirement already satisfied: pydantic<3.0.0,>=2.7.4 in c:\\users\\sakov\\bootcamp\\anaconda\\lib\\site-packages (from langchain_core) (2.8.2)\n",
      "Requirement already satisfied: tenacity!=8.4.0,<10.0.0,>=8.1.0 in c:\\users\\sakov\\bootcamp\\anaconda\\lib\\site-packages (from langchain_core) (8.2.3)\n",
      "Requirement already satisfied: typing-extensions>=4.7 in c:\\users\\sakov\\bootcamp\\anaconda\\lib\\site-packages (from langchain_core) (4.11.0)\n",
      "Requirement already satisfied: jsonpointer>=1.9 in c:\\users\\sakov\\bootcamp\\anaconda\\lib\\site-packages (from jsonpatch<2.0,>=1.33->langchain_core) (2.1)\n",
      "Requirement already satisfied: httpx<1,>=0.23.0 in c:\\users\\sakov\\bootcamp\\anaconda\\lib\\site-packages (from langsmith<0.3,>=0.1.125->langchain_core) (0.27.0)\n",
      "Collecting orjson<4.0.0,>=3.9.14 (from langsmith<0.3,>=0.1.125->langchain_core)\n",
      "  Downloading orjson-3.10.12-cp312-none-win_amd64.whl.metadata (42 kB)\n",
      "Requirement already satisfied: requests<3,>=2 in c:\\users\\sakov\\bootcamp\\anaconda\\lib\\site-packages (from langsmith<0.3,>=0.1.125->langchain_core) (2.32.3)\n",
      "Requirement already satisfied: requests-toolbelt<2.0.0,>=1.0.0 in c:\\users\\sakov\\bootcamp\\anaconda\\lib\\site-packages (from langsmith<0.3,>=0.1.125->langchain_core) (1.0.0)\n",
      "Requirement already satisfied: annotated-types>=0.4.0 in c:\\users\\sakov\\bootcamp\\anaconda\\lib\\site-packages (from pydantic<3.0.0,>=2.7.4->langchain_core) (0.6.0)\n",
      "Requirement already satisfied: pydantic-core==2.20.1 in c:\\users\\sakov\\bootcamp\\anaconda\\lib\\site-packages (from pydantic<3.0.0,>=2.7.4->langchain_core) (2.20.1)\n",
      "Requirement already satisfied: anyio in c:\\users\\sakov\\bootcamp\\anaconda\\lib\\site-packages (from httpx<1,>=0.23.0->langsmith<0.3,>=0.1.125->langchain_core) (4.2.0)\n",
      "Requirement already satisfied: certifi in c:\\users\\sakov\\bootcamp\\anaconda\\lib\\site-packages (from httpx<1,>=0.23.0->langsmith<0.3,>=0.1.125->langchain_core) (2024.8.30)\n",
      "Requirement already satisfied: httpcore==1.* in c:\\users\\sakov\\bootcamp\\anaconda\\lib\\site-packages (from httpx<1,>=0.23.0->langsmith<0.3,>=0.1.125->langchain_core) (1.0.2)\n",
      "Requirement already satisfied: idna in c:\\users\\sakov\\bootcamp\\anaconda\\lib\\site-packages (from httpx<1,>=0.23.0->langsmith<0.3,>=0.1.125->langchain_core) (3.7)\n",
      "Requirement already satisfied: sniffio in c:\\users\\sakov\\bootcamp\\anaconda\\lib\\site-packages (from httpx<1,>=0.23.0->langsmith<0.3,>=0.1.125->langchain_core) (1.3.0)\n",
      "Requirement already satisfied: h11<0.15,>=0.13 in c:\\users\\sakov\\bootcamp\\anaconda\\lib\\site-packages (from httpcore==1.*->httpx<1,>=0.23.0->langsmith<0.3,>=0.1.125->langchain_core) (0.14.0)\n",
      "Requirement already satisfied: charset-normalizer<4,>=2 in c:\\users\\sakov\\bootcamp\\anaconda\\lib\\site-packages (from requests<3,>=2->langsmith<0.3,>=0.1.125->langchain_core) (3.3.2)\n",
      "Requirement already satisfied: urllib3<3,>=1.21.1 in c:\\users\\sakov\\bootcamp\\anaconda\\lib\\site-packages (from requests<3,>=2->langsmith<0.3,>=0.1.125->langchain_core) (2.2.3)\n",
      "Downloading langchain_core-0.3.25-py3-none-any.whl (411 kB)\n",
      "Using cached langsmith-0.2.3-py3-none-any.whl (320 kB)\n",
      "Downloading orjson-3.10.12-cp312-none-win_amd64.whl (135 kB)\n",
      "Installing collected packages: orjson, langsmith, langchain_core\n",
      "Successfully installed langchain_core-0.3.25 langsmith-0.2.3 orjson-3.10.12\n"
     ]
    }
   ],
   "source": [
    "!{sys.executable} -m pip install langchain_core"
   ]
  },
  {
   "cell_type": "code",
   "execution_count": 7,
   "id": "55b8f17b-2a19-448f-afe6-7b595cc56cb9",
   "metadata": {},
   "outputs": [
    {
     "name": "stdout",
     "output_type": "stream",
     "text": [
      "Collecting langchain\n",
      "  Downloading langchain-0.3.12-py3-none-any.whl.metadata (7.1 kB)\n",
      "Requirement already satisfied: PyYAML>=5.3 in c:\\users\\sakov\\bootcamp\\anaconda\\lib\\site-packages (from langchain) (6.0.1)\n",
      "Requirement already satisfied: SQLAlchemy<3,>=1.4 in c:\\users\\sakov\\bootcamp\\anaconda\\lib\\site-packages (from langchain) (2.0.34)\n",
      "Requirement already satisfied: aiohttp<4.0.0,>=3.8.3 in c:\\users\\sakov\\bootcamp\\anaconda\\lib\\site-packages (from langchain) (3.10.5)\n",
      "Requirement already satisfied: langchain-core<0.4.0,>=0.3.25 in c:\\users\\sakov\\bootcamp\\anaconda\\lib\\site-packages (from langchain) (0.3.25)\n",
      "Collecting langchain-text-splitters<0.4.0,>=0.3.3 (from langchain)\n",
      "  Downloading langchain_text_splitters-0.3.3-py3-none-any.whl.metadata (2.3 kB)\n",
      "Requirement already satisfied: langsmith<0.3,>=0.1.17 in c:\\users\\sakov\\bootcamp\\anaconda\\lib\\site-packages (from langchain) (0.2.3)\n",
      "Requirement already satisfied: numpy<3,>=1.26.2 in c:\\users\\sakov\\bootcamp\\anaconda\\lib\\site-packages (from langchain) (1.26.4)\n",
      "Requirement already satisfied: pydantic<3.0.0,>=2.7.4 in c:\\users\\sakov\\bootcamp\\anaconda\\lib\\site-packages (from langchain) (2.8.2)\n",
      "Requirement already satisfied: requests<3,>=2 in c:\\users\\sakov\\bootcamp\\anaconda\\lib\\site-packages (from langchain) (2.32.3)\n",
      "Requirement already satisfied: tenacity!=8.4.0,<10,>=8.1.0 in c:\\users\\sakov\\bootcamp\\anaconda\\lib\\site-packages (from langchain) (8.2.3)\n",
      "Requirement already satisfied: aiohappyeyeballs>=2.3.0 in c:\\users\\sakov\\bootcamp\\anaconda\\lib\\site-packages (from aiohttp<4.0.0,>=3.8.3->langchain) (2.4.0)\n",
      "Requirement already satisfied: aiosignal>=1.1.2 in c:\\users\\sakov\\bootcamp\\anaconda\\lib\\site-packages (from aiohttp<4.0.0,>=3.8.3->langchain) (1.2.0)\n",
      "Requirement already satisfied: attrs>=17.3.0 in c:\\users\\sakov\\bootcamp\\anaconda\\lib\\site-packages (from aiohttp<4.0.0,>=3.8.3->langchain) (23.1.0)\n",
      "Requirement already satisfied: frozenlist>=1.1.1 in c:\\users\\sakov\\bootcamp\\anaconda\\lib\\site-packages (from aiohttp<4.0.0,>=3.8.3->langchain) (1.4.0)\n",
      "Requirement already satisfied: multidict<7.0,>=4.5 in c:\\users\\sakov\\bootcamp\\anaconda\\lib\\site-packages (from aiohttp<4.0.0,>=3.8.3->langchain) (6.0.4)\n",
      "Requirement already satisfied: yarl<2.0,>=1.0 in c:\\users\\sakov\\bootcamp\\anaconda\\lib\\site-packages (from aiohttp<4.0.0,>=3.8.3->langchain) (1.11.0)\n",
      "Requirement already satisfied: jsonpatch<2.0,>=1.33 in c:\\users\\sakov\\bootcamp\\anaconda\\lib\\site-packages (from langchain-core<0.4.0,>=0.3.25->langchain) (1.33)\n",
      "Requirement already satisfied: packaging<25,>=23.2 in c:\\users\\sakov\\bootcamp\\anaconda\\lib\\site-packages (from langchain-core<0.4.0,>=0.3.25->langchain) (24.1)\n",
      "Requirement already satisfied: typing-extensions>=4.7 in c:\\users\\sakov\\bootcamp\\anaconda\\lib\\site-packages (from langchain-core<0.4.0,>=0.3.25->langchain) (4.11.0)\n",
      "Requirement already satisfied: httpx<1,>=0.23.0 in c:\\users\\sakov\\bootcamp\\anaconda\\lib\\site-packages (from langsmith<0.3,>=0.1.17->langchain) (0.27.0)\n",
      "Requirement already satisfied: orjson<4.0.0,>=3.9.14 in c:\\users\\sakov\\bootcamp\\anaconda\\lib\\site-packages (from langsmith<0.3,>=0.1.17->langchain) (3.10.12)\n",
      "Requirement already satisfied: requests-toolbelt<2.0.0,>=1.0.0 in c:\\users\\sakov\\bootcamp\\anaconda\\lib\\site-packages (from langsmith<0.3,>=0.1.17->langchain) (1.0.0)\n",
      "Requirement already satisfied: annotated-types>=0.4.0 in c:\\users\\sakov\\bootcamp\\anaconda\\lib\\site-packages (from pydantic<3.0.0,>=2.7.4->langchain) (0.6.0)\n",
      "Requirement already satisfied: pydantic-core==2.20.1 in c:\\users\\sakov\\bootcamp\\anaconda\\lib\\site-packages (from pydantic<3.0.0,>=2.7.4->langchain) (2.20.1)\n",
      "Requirement already satisfied: charset-normalizer<4,>=2 in c:\\users\\sakov\\bootcamp\\anaconda\\lib\\site-packages (from requests<3,>=2->langchain) (3.3.2)\n",
      "Requirement already satisfied: idna<4,>=2.5 in c:\\users\\sakov\\bootcamp\\anaconda\\lib\\site-packages (from requests<3,>=2->langchain) (3.7)\n",
      "Requirement already satisfied: urllib3<3,>=1.21.1 in c:\\users\\sakov\\bootcamp\\anaconda\\lib\\site-packages (from requests<3,>=2->langchain) (2.2.3)\n",
      "Requirement already satisfied: certifi>=2017.4.17 in c:\\users\\sakov\\bootcamp\\anaconda\\lib\\site-packages (from requests<3,>=2->langchain) (2024.8.30)\n",
      "Requirement already satisfied: greenlet!=0.4.17 in c:\\users\\sakov\\bootcamp\\anaconda\\lib\\site-packages (from SQLAlchemy<3,>=1.4->langchain) (3.0.1)\n",
      "Requirement already satisfied: anyio in c:\\users\\sakov\\bootcamp\\anaconda\\lib\\site-packages (from httpx<1,>=0.23.0->langsmith<0.3,>=0.1.17->langchain) (4.2.0)\n",
      "Requirement already satisfied: httpcore==1.* in c:\\users\\sakov\\bootcamp\\anaconda\\lib\\site-packages (from httpx<1,>=0.23.0->langsmith<0.3,>=0.1.17->langchain) (1.0.2)\n",
      "Requirement already satisfied: sniffio in c:\\users\\sakov\\bootcamp\\anaconda\\lib\\site-packages (from httpx<1,>=0.23.0->langsmith<0.3,>=0.1.17->langchain) (1.3.0)\n",
      "Requirement already satisfied: h11<0.15,>=0.13 in c:\\users\\sakov\\bootcamp\\anaconda\\lib\\site-packages (from httpcore==1.*->httpx<1,>=0.23.0->langsmith<0.3,>=0.1.17->langchain) (0.14.0)\n",
      "Requirement already satisfied: jsonpointer>=1.9 in c:\\users\\sakov\\bootcamp\\anaconda\\lib\\site-packages (from jsonpatch<2.0,>=1.33->langchain-core<0.4.0,>=0.3.25->langchain) (2.1)\n",
      "Downloading langchain-0.3.12-py3-none-any.whl (1.0 MB)\n",
      "   ---------------------------------------- 0.0/1.0 MB ? eta -:--:--\n",
      "   ------------------------------- -------- 0.8/1.0 MB 5.6 MB/s eta 0:00:01\n",
      "   ---------------------------------------- 1.0/1.0 MB 4.8 MB/s eta 0:00:00\n",
      "Downloading langchain_text_splitters-0.3.3-py3-none-any.whl (27 kB)\n",
      "Installing collected packages: langchain-text-splitters, langchain\n",
      "Successfully installed langchain-0.3.12 langchain-text-splitters-0.3.3\n"
     ]
    }
   ],
   "source": [
    "!{sys.executable} -m pip install langchain"
   ]
  },
  {
   "cell_type": "code",
   "execution_count": 16,
   "id": "8e2de07a-31ba-45e6-9c43-3e55eab52cf2",
   "metadata": {},
   "outputs": [
    {
     "name": "stdout",
     "output_type": "stream",
     "text": [
      "Collecting langchain-openai\n",
      "  Using cached langchain_openai-0.2.12-py3-none-any.whl.metadata (2.7 kB)\n",
      "Requirement already satisfied: langchain-core<0.4.0,>=0.3.21 in c:\\users\\sakov\\bootcamp\\anaconda\\lib\\site-packages (from langchain-openai) (0.3.25)\n",
      "Requirement already satisfied: openai<2.0.0,>=1.55.3 in c:\\users\\sakov\\bootcamp\\anaconda\\lib\\site-packages (from langchain-openai) (1.57.4)\n",
      "Collecting tiktoken<1,>=0.7 (from langchain-openai)\n",
      "  Downloading tiktoken-0.8.0-cp312-cp312-win_amd64.whl.metadata (6.8 kB)\n",
      "Requirement already satisfied: PyYAML>=5.3 in c:\\users\\sakov\\bootcamp\\anaconda\\lib\\site-packages (from langchain-core<0.4.0,>=0.3.21->langchain-openai) (6.0.1)\n",
      "Requirement already satisfied: jsonpatch<2.0,>=1.33 in c:\\users\\sakov\\bootcamp\\anaconda\\lib\\site-packages (from langchain-core<0.4.0,>=0.3.21->langchain-openai) (1.33)\n",
      "Requirement already satisfied: langsmith<0.3,>=0.1.125 in c:\\users\\sakov\\bootcamp\\anaconda\\lib\\site-packages (from langchain-core<0.4.0,>=0.3.21->langchain-openai) (0.2.3)\n",
      "Requirement already satisfied: packaging<25,>=23.2 in c:\\users\\sakov\\bootcamp\\anaconda\\lib\\site-packages (from langchain-core<0.4.0,>=0.3.21->langchain-openai) (24.1)\n",
      "Requirement already satisfied: pydantic<3.0.0,>=2.7.4 in c:\\users\\sakov\\bootcamp\\anaconda\\lib\\site-packages (from langchain-core<0.4.0,>=0.3.21->langchain-openai) (2.8.2)\n",
      "Requirement already satisfied: tenacity!=8.4.0,<10.0.0,>=8.1.0 in c:\\users\\sakov\\bootcamp\\anaconda\\lib\\site-packages (from langchain-core<0.4.0,>=0.3.21->langchain-openai) (8.2.3)\n",
      "Requirement already satisfied: typing-extensions>=4.7 in c:\\users\\sakov\\bootcamp\\anaconda\\lib\\site-packages (from langchain-core<0.4.0,>=0.3.21->langchain-openai) (4.11.0)\n",
      "Requirement already satisfied: anyio<5,>=3.5.0 in c:\\users\\sakov\\bootcamp\\anaconda\\lib\\site-packages (from openai<2.0.0,>=1.55.3->langchain-openai) (4.2.0)\n",
      "Requirement already satisfied: distro<2,>=1.7.0 in c:\\users\\sakov\\bootcamp\\anaconda\\lib\\site-packages (from openai<2.0.0,>=1.55.3->langchain-openai) (1.9.0)\n",
      "Requirement already satisfied: httpx<1,>=0.23.0 in c:\\users\\sakov\\bootcamp\\anaconda\\lib\\site-packages (from openai<2.0.0,>=1.55.3->langchain-openai) (0.27.0)\n",
      "Requirement already satisfied: jiter<1,>=0.4.0 in c:\\users\\sakov\\bootcamp\\anaconda\\lib\\site-packages (from openai<2.0.0,>=1.55.3->langchain-openai) (0.8.2)\n",
      "Requirement already satisfied: sniffio in c:\\users\\sakov\\bootcamp\\anaconda\\lib\\site-packages (from openai<2.0.0,>=1.55.3->langchain-openai) (1.3.0)\n",
      "Requirement already satisfied: tqdm>4 in c:\\users\\sakov\\bootcamp\\anaconda\\lib\\site-packages (from openai<2.0.0,>=1.55.3->langchain-openai) (4.66.5)\n",
      "Requirement already satisfied: regex>=2022.1.18 in c:\\users\\sakov\\bootcamp\\anaconda\\lib\\site-packages (from tiktoken<1,>=0.7->langchain-openai) (2024.9.11)\n",
      "Requirement already satisfied: requests>=2.26.0 in c:\\users\\sakov\\bootcamp\\anaconda\\lib\\site-packages (from tiktoken<1,>=0.7->langchain-openai) (2.32.3)\n",
      "Requirement already satisfied: idna>=2.8 in c:\\users\\sakov\\bootcamp\\anaconda\\lib\\site-packages (from anyio<5,>=3.5.0->openai<2.0.0,>=1.55.3->langchain-openai) (3.7)\n",
      "Requirement already satisfied: certifi in c:\\users\\sakov\\bootcamp\\anaconda\\lib\\site-packages (from httpx<1,>=0.23.0->openai<2.0.0,>=1.55.3->langchain-openai) (2024.8.30)\n",
      "Requirement already satisfied: httpcore==1.* in c:\\users\\sakov\\bootcamp\\anaconda\\lib\\site-packages (from httpx<1,>=0.23.0->openai<2.0.0,>=1.55.3->langchain-openai) (1.0.2)\n",
      "Requirement already satisfied: h11<0.15,>=0.13 in c:\\users\\sakov\\bootcamp\\anaconda\\lib\\site-packages (from httpcore==1.*->httpx<1,>=0.23.0->openai<2.0.0,>=1.55.3->langchain-openai) (0.14.0)\n",
      "Requirement already satisfied: jsonpointer>=1.9 in c:\\users\\sakov\\bootcamp\\anaconda\\lib\\site-packages (from jsonpatch<2.0,>=1.33->langchain-core<0.4.0,>=0.3.21->langchain-openai) (2.1)\n",
      "Requirement already satisfied: orjson<4.0.0,>=3.9.14 in c:\\users\\sakov\\bootcamp\\anaconda\\lib\\site-packages (from langsmith<0.3,>=0.1.125->langchain-core<0.4.0,>=0.3.21->langchain-openai) (3.10.12)\n",
      "Requirement already satisfied: requests-toolbelt<2.0.0,>=1.0.0 in c:\\users\\sakov\\bootcamp\\anaconda\\lib\\site-packages (from langsmith<0.3,>=0.1.125->langchain-core<0.4.0,>=0.3.21->langchain-openai) (1.0.0)\n",
      "Requirement already satisfied: annotated-types>=0.4.0 in c:\\users\\sakov\\bootcamp\\anaconda\\lib\\site-packages (from pydantic<3.0.0,>=2.7.4->langchain-core<0.4.0,>=0.3.21->langchain-openai) (0.6.0)\n",
      "Requirement already satisfied: pydantic-core==2.20.1 in c:\\users\\sakov\\bootcamp\\anaconda\\lib\\site-packages (from pydantic<3.0.0,>=2.7.4->langchain-core<0.4.0,>=0.3.21->langchain-openai) (2.20.1)\n",
      "Requirement already satisfied: charset-normalizer<4,>=2 in c:\\users\\sakov\\bootcamp\\anaconda\\lib\\site-packages (from requests>=2.26.0->tiktoken<1,>=0.7->langchain-openai) (3.3.2)\n",
      "Requirement already satisfied: urllib3<3,>=1.21.1 in c:\\users\\sakov\\bootcamp\\anaconda\\lib\\site-packages (from requests>=2.26.0->tiktoken<1,>=0.7->langchain-openai) (2.2.3)\n",
      "Requirement already satisfied: colorama in c:\\users\\sakov\\bootcamp\\anaconda\\lib\\site-packages (from tqdm>4->openai<2.0.0,>=1.55.3->langchain-openai) (0.4.6)\n",
      "Using cached langchain_openai-0.2.12-py3-none-any.whl (50 kB)\n",
      "Downloading tiktoken-0.8.0-cp312-cp312-win_amd64.whl (883 kB)\n",
      "   ---------------------------------------- 0.0/883.8 kB ? eta -:--:--\n",
      "   ----------- ---------------------------- 262.1/883.8 kB ? eta -:--:--\n",
      "   ----------------------- ---------------- 524.3/883.8 kB 1.7 MB/s eta 0:00:01\n",
      "   ----------------------- ---------------- 524.3/883.8 kB 1.7 MB/s eta 0:00:01\n",
      "   ---------------------------------------- 883.8/883.8 kB 1.0 MB/s eta 0:00:00\n",
      "Installing collected packages: tiktoken, langchain-openai\n",
      "Successfully installed langchain-openai-0.2.12 tiktoken-0.8.0\n"
     ]
    }
   ],
   "source": [
    "!{sys.executable} -m pip install langchain-openai"
   ]
  },
  {
   "cell_type": "code",
   "execution_count": 1,
   "id": "1da3b4d2-ca8d-4b64-ab3c-a9482a28b34f",
   "metadata": {},
   "outputs": [
    {
     "name": "stdout",
     "output_type": "stream",
     "text": [
      "*Roooaaarrr!* (Just hanging out, ready for some adventures! How about you?)\n"
     ]
    }
   ],
   "source": [
    "import getpass\n",
    "import os\n",
    "from langchain_openai import ChatOpenAI\n",
    "from langchain_core.prompts import ChatPromptTemplate\n",
    "from langchain_core.messages import HumanMessage, SystemMessage\n",
    "from dotenv import load_dotenv\n",
    "\n",
    "#load the environment\n",
    "load_dotenv()\n",
    "\n",
    "os.environ[\"LANGCHAIN_TRACING_V2\"] = \"true\"\n",
    "os.environ[\"LANGCHAIN_API_KEY\"] = os.getenv(\"LANGCHAIN_API_KEY\")\n",
    "os.environ[\"OPENAI_API_KEY\"] = os.getenv(\"OPENAI_API_KEY\")\n",
    "\n",
    "model = ChatOpenAI(model=\"gpt-4o-mini\", temperature=0, max_retries=2)\n",
    "\n",
    "system_template = \"Respond to all messages as if you were {character} from Starwars\"\n",
    "\n",
    "prompt_template = ChatPromptTemplate.from_messages(\n",
    "    [(\"system\", system_template), (\"user\", \"{text}\")]\n",
    ")\n",
    "\n",
    "prompt = prompt_template.invoke({\"character\": \"Chewbaca\", \"text\": \"Hello! what are you upto?\"})\n",
    "\n",
    "response = model.invoke(prompt)\n",
    "print(response.content)"
   ]
  },
  {
   "cell_type": "code",
   "execution_count": null,
   "id": "8e8d0f9c-8cec-49e4-ad40-329c456e0ab3",
   "metadata": {},
   "outputs": [],
   "source": []
  },
  {
   "cell_type": "code",
   "execution_count": null,
   "id": "a5963c2f-fa1d-436d-8488-3b0ad428a366",
   "metadata": {},
   "outputs": [],
   "source": []
  }
 ],
 "metadata": {
  "kernelspec": {
   "display_name": "Python 3 (ipykernel)",
   "language": "python",
   "name": "python3"
  },
  "language_info": {
   "codemirror_mode": {
    "name": "ipython",
    "version": 3
   },
   "file_extension": ".py",
   "mimetype": "text/x-python",
   "name": "python",
   "nbconvert_exporter": "python",
   "pygments_lexer": "ipython3",
   "version": "3.12.9"
  }
 },
 "nbformat": 4,
 "nbformat_minor": 5
}
